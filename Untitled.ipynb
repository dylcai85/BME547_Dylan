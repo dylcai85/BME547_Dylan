{
 "cells": [
  {
   "cell_type": "code",
   "execution_count": 1,
   "id": "22c10867",
   "metadata": {},
   "outputs": [
    {
     "name": "stdout",
     "output_type": "stream",
     "text": [
      "8\n"
     ]
    }
   ],
   "source": [
    "x = 5\n",
    "a = x+3\n",
    "print(a)"
   ]
  },
  {
   "cell_type": "markdown",
   "id": "84bbab86",
   "metadata": {},
   "source": [
    "#Markdown\n",
    "\n",
    "Bold\n"
   ]
  },
  {
   "cell_type": "code",
   "execution_count": null,
   "id": "54a9046c",
   "metadata": {},
   "outputs": [],
   "source": []
  },
  {
   "cell_type": "code",
   "execution_count": null,
   "id": "ec76273a",
   "metadata": {},
   "outputs": [],
   "source": []
  }
 ],
 "metadata": {
  "kernelspec": {
   "display_name": "Python 3 (ipykernel)",
   "language": "python",
   "name": "python3"
  },
  "language_info": {
   "codemirror_mode": {
    "name": "ipython",
    "version": 3
   },
   "file_extension": ".py",
   "mimetype": "text/x-python",
   "name": "python",
   "nbconvert_exporter": "python",
   "pygments_lexer": "ipython3",
   "version": "3.10.6"
  }
 },
 "nbformat": 4,
 "nbformat_minor": 5
}
